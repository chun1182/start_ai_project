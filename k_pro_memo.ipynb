{
 "cells": [
  {
   "cell_type": "code",
   "execution_count": 1,
   "metadata": {},
   "outputs": [
    {
     "name": "stdout",
     "output_type": "stream",
     "text": [
      "1 5\n",
      "1 5 6 2\n",
      "1 5 [1, 5, 6, 2]\n"
     ]
    }
   ],
   "source": [
    "#入力\n",
    "a,b=map(int, input().split())\n",
    "c=list(map(int, input().split()))\n",
    "print(a,b,c)"
   ]
  },
  {
   "cell_type": "code",
   "execution_count": 8,
   "metadata": {},
   "outputs": [
    {
     "name": "stdout",
     "output_type": "stream",
     "text": [
      "b:[0, 3, 0, 0, 0], b2:[0, 0, 0, 0, 0]\n",
      "[[0, 0, 0], [0, 0, 0], [0, 0, 0], [0, 0, 0], [0, 0, 0]]\n"
     ]
    }
   ],
   "source": [
    "#初期化\n",
    "a=[0]*5 \n",
    "b=a\n",
    "b2=a[:]\n",
    "a[1]=3\n",
    "print('b:{}, b2:{}'.format(b,b2))\n",
    "\n",
    "import copy\n",
    "a= [[0]*3 for i in range(5)] #2次元配列はこう準備、[[0]*5]*5\n",
    "b=copy.deepcopy(a)\n",
    "a[1][0]=5\n",
    "print(b)"
   ]
  },
  {
   "cell_type": "code",
   "execution_count": 2,
   "metadata": {},
   "outputs": [
    {
     "name": "stdout",
     "output_type": "stream",
     "text": [
      "[1, 3, 5, 7, 9, 11, 13, 15, 17, 19]\n",
      "[[1, 2], [2, 6], [3, 6], [4, 5], [5, 7]]\n",
      "[[5, 7], [2, 6], [3, 6], [4, 5], [1, 2]]\n"
     ]
    }
   ],
   "source": [
    "#内包表記奇数のみ\n",
    "odd=[i for i in range(20) if i%2==1]\n",
    "print(a)\n",
    "#ソート\n",
    "w=[[1, 2], [2, 6] , [3, 6], [4, 5], [5, 7]]\n",
    "w.sort()\n",
    "print(w)\n",
    "w.sort(key=lambda x:x[1],reverse=True)\n",
    "print(w)"
   ]
  },
  {
   "cell_type": "code",
   "execution_count": 9,
   "metadata": {},
   "outputs": [
    {
     "name": "stdout",
     "output_type": "stream",
     "text": [
      "2 54 944\n"
     ]
    }
   ],
   "source": [
    "#二重ループ\n",
    "n,y=1000, 1234000\n",
    "for i in range(n+1):\n",
    "    for j in range(n-i+1):\n",
    "        if y-10000*i-5000*j==1000*(n-i-j):\n",
    "            print(i, j, n-i-j)\n",
    "            break\n",
    "    else:\n",
    "        continue\n",
    "    break\n",
    "else:\n",
    "    print('-1 -1 -1')"
   ]
  },
  {
   "cell_type": "code",
   "execution_count": 12,
   "metadata": {},
   "outputs": [
    {
     "name": "stdout",
     "output_type": "stream",
     "text": [
      "[1, 2, 3, 4, 5, 6, 7, 8, 9] 6\n"
     ]
    }
   ],
   "source": [
    "#二部探索\n",
    "import bisect\n",
    "a = [1, 2, 3, 5, 6, 7, 8, 9]\n",
    "b=bisect.bisect_left(a, 8)\n",
    "bisect.insort_left(a, 4)\n",
    "print(a,b)"
   ]
  },
  {
   "cell_type": "code",
   "execution_count": 54,
   "metadata": {},
   "outputs": [
    {
     "name": "stdout",
     "output_type": "stream",
     "text": [
      "Wall time: 695 ms\n"
     ]
    }
   ],
   "source": [
    "%%time\n",
    "#素数\n",
    "n = 10**6\n",
    "primes = set(range(2, n+1))\n",
    "for i in range(2, int(n**0.5+1)):\n",
    "    primes.difference_update(range(i*2, n+1, i))\n",
    "primes=list(primes)\n",
    "#print(primes)"
   ]
  },
  {
   "cell_type": "code",
   "execution_count": 8,
   "metadata": {},
   "outputs": [
    {
     "name": "stdout",
     "output_type": "stream",
     "text": [
      "[('a', 'b', 'C'), ('a', 'C', 'b'), ('b', 'a', 'C'), ('b', 'C', 'a'), ('C', 'a', 'b'), ('C', 'b', 'a')]\n",
      "[('a', 'b'), ('a', 'C'), ('b', 'C')]\n",
      "[('a', 'a', 'a'), ('a', 'a', 'b'), ('a', 'a', 'C'), ('a', 'b', 'b'), ('a', 'b', 'C'), ('a', 'C', 'C'), ('b', 'b', 'b'), ('b', 'b', 'C'), ('b', 'C', 'C'), ('C', 'C', 'C')]\n",
      "[('a', 'a'), ('a', 'b'), ('a', 'C'), ('b', 'a'), ('b', 'b'), ('b', 'C'), ('C', 'a'), ('C', 'b'), ('C', 'C')]\n"
     ]
    }
   ],
   "source": [
    "#combinations、組み合わせ、順列\n",
    "from itertools import permutations, combinations,combinations_with_replacement,product\n",
    "a=['a','b','C']\n",
    "print(list(permutations(a)))\n",
    "print(list(combinations(a,2)))\n",
    "print(list(combinations_with_replacement(a,3)))\n",
    "print(list(product(['a','b','C'],repeat=2)))\n"
   ]
  },
  {
   "cell_type": "code",
   "execution_count": 9,
   "metadata": {},
   "outputs": [
    {
     "name": "stdout",
     "output_type": "stream",
     "text": [
      "000100-0.987654\n"
     ]
    }
   ],
   "source": [
    "# 0埋め\n",
    "a=100\n",
    "b=0.987654321\n",
    "print('{0:06d}-{1:6f}'.format(a,b))"
   ]
  },
  {
   "cell_type": "code",
   "execution_count": 3,
   "metadata": {
    "scrolled": true
   },
   "outputs": [
    {
     "name": "stdout",
     "output_type": "stream",
     "text": [
      "72 50\n",
      "2 1800\n",
      "120\n"
     ]
    },
    {
     "name": "stderr",
     "output_type": "stream",
     "text": [
      "C:\\Users\\chun\\Anaconda3\\lib\\site-packages\\ipykernel_launcher.py:4: DeprecationWarning: fractions.gcd() is deprecated. Use math.gcd() instead.\n",
      "  after removing the cwd from sys.path.\n"
     ]
    }
   ],
   "source": [
    "#最大公約数、最小公倍数、階乗\n",
    "import fractions, math\n",
    "a,b=map(int, input().split())\n",
    "f=fractions.gcd(a,b)\n",
    "f2=a*b//f\n",
    "print(f,f2)\n",
    "print(math.factorial(5))"
   ]
  },
  {
   "cell_type": "code",
   "execution_count": 1,
   "metadata": {},
   "outputs": [
    {
     "name": "stdout",
     "output_type": "stream",
     "text": [
      "6\n"
     ]
    }
   ],
   "source": [
    "#文字式を評価\n",
    "a=eval('1*2*3')\n",
    "print(a)"
   ]
  },
  {
   "cell_type": "code",
   "execution_count": 19,
   "metadata": {},
   "outputs": [
    {
     "name": "stdout",
     "output_type": "stream",
     "text": [
      "(2, 8)\n",
      "(1, 6)\n",
      "(3, 3)\n"
     ]
    }
   ],
   "source": [
    "from collections import Counter\n",
    "a=[2,2,2,3,4,3,1,2,1,3,1,2,1,2,2,1,2,1]\n",
    "a=Counter(a)\n",
    "for i in a.most_common(3):print(i)"
   ]
  },
  {
   "cell_type": "code",
   "execution_count": 24,
   "metadata": {},
   "outputs": [
    {
     "name": "stdout",
     "output_type": "stream",
     "text": [
      "1234\n",
      "1234\n",
      "1234\n",
      "1234\n"
     ]
    }
   ],
   "source": [
    "import numpy as np\n",
    "s=[list(input()) for i in range(4)]\n",
    "s=np.array(s)\n",
    "s=s[::-1,:].T"
   ]
  },
  {
   "cell_type": "code",
   "execution_count": 49,
   "metadata": {},
   "outputs": [
    {
     "data": {
      "text/plain": [
       "2"
      ]
     },
     "execution_count": 49,
     "metadata": {},
     "output_type": "execute_result"
    }
   ],
   "source": [
    "i=0\n",
    "j=1\n",
    "np.sum(s[:3,:2]=='5')\n"
   ]
  },
  {
   "cell_type": "code",
   "execution_count": 50,
   "metadata": {},
   "outputs": [
    {
     "name": "stdout",
     "output_type": "stream",
     "text": [
      "[(3, 6), (3, 4)] {(1, 1): 0, (2, 1): 1, (1, 2): 1, (3, 1): 2, (1, 3): 2, (4, 1): 3, (3, 2): 3, (1, 4): 3, (4, 2): 4, (1, 5): 4, (5, 2): 5, (1, 6): 5, (5, 3): 6, (5, 4): 7, (5, 5): 8, (5, 6): 9, (4, 5): 9, (4, 6): 10, (3, 5): 10, (3, 6): 11, (3, 4): 11}\n"
     ]
    }
   ],
   "source": [
    "#最短経路\n",
    "ys,xs=2,2\n",
    "yg,xg=4,5\n",
    "a=['########', '#......#', '#.######', '#..#...#', '#..##..#', '##.....#', '########']\n",
    "n=[(ys-1,xs-1)]\n",
    "route={n[0]:0}\n",
    "p=[[1,0],[0,1],[-1,0],[0,-1]]\n",
    "count=1\n",
    "while route.get((yg-1,xg-1),0)==0 and count != 10000:\n",
    "    n2=[]\n",
    "    for i in n:\n",
    "        for j in p:\n",
    "            np=(i[0]+j[0],i[1]+j[1])\n",
    "            if a[np[0]][np[1]]=='.' and route.get(np,-1)==-1:\n",
    "                n2.append(np)\n",
    "                route[np]=count\n",
    "    n=n2\n",
    "    count+=1\n",
    "print(n,route)"
   ]
  },
  {
   "cell_type": "code",
   "execution_count": 51,
   "metadata": {},
   "outputs": [
    {
     "data": {
      "text/plain": [
       "['########',\n",
       " '#......#',\n",
       " '#.######',\n",
       " '#..#...#',\n",
       " '#..##..#',\n",
       " '##.....#',\n",
       " '########']"
      ]
     },
     "execution_count": 51,
     "metadata": {},
     "output_type": "execute_result"
    }
   ],
   "source": [
    "a"
   ]
  },
  {
   "cell_type": "code",
   "execution_count": 11,
   "metadata": {},
   "outputs": [
    {
     "name": "stdout",
     "output_type": "stream",
     "text": [
      "[[0, 0, 0, 0], [1, 1, 0, 0], [0, 0, 0, 1], [0, 0, 1, 1], [0, 0, 0, 0]]\n",
      "0\n",
      "1\n",
      "2\n",
      "3\n",
      "4\n",
      "{(2, 2): 0, (1, 2): 1, (2, 1): 1, (1, 3): 2, (0, 2): 2, (3, 1): 2, (2, 0): 2, (1, 4): 3, (0, 3): 3, (3, 0): 3, (1, 0): 3, (2, 4): 4, (0, 4): 4, (0, 0): 4, (3, 4): 5}\n",
      "[[(2, 2)], [(1, 2), (2, 1)], [(1, 3), (0, 2), (3, 1), (2, 0)], [(1, 4), (0, 3), (3, 0), (1, 0)], [(2, 4), (0, 4), (0, 0)], [(3, 4)]]\n",
      "15\n",
      "5\n"
     ]
    }
   ],
   "source": [
    "#最短経路\n",
    "W,H=4,5\n",
    "step={(2,2):0}\n",
    "route=[[(2,2)]]\n",
    "#map=[[0 for i in range(W)] for j in range(H)]\n",
    "map=[[0, 0, 0, 0], [1, 1, 0, 0], [0, 0, 0, 1], [0, 0, 1, 1], [0, 0, 0, 0]]\n",
    "print(map)\n",
    "\n",
    "for i in range(15):\n",
    "    next_list=[]\n",
    "    for j in range(len(route[i])):\n",
    "        next_list.append((route[i][j][0]+1,route[i][j][1]))\n",
    "        next_list.append((route[i][j][0]  ,route[i][j][1]+1))\n",
    "        next_list.append((route[i][j][0]-1,route[i][j][1]))\n",
    "        next_list.append((route[i][j][0]  ,route[i][j][1]-1))\n",
    "    s=set(next_list)\n",
    "    #print(s)   \n",
    "\n",
    "    n_list=[]\n",
    "    for l, (j,k) in enumerate(next_list):\n",
    "        if W>j>=0 and H>k>=0 :\n",
    "            #print(map[j][k])\n",
    "            if map[k][j]==0:\n",
    "                n_list.append(next_list[l])\n",
    "    n_list=sorted(set(n_list),key=n_list.index)\n",
    "\n",
    "    remove=[]\n",
    "    for l in n_list:\n",
    "        if step.setdefault(l, i+1) <i+1:\n",
    "            remove.append(l)\n",
    "    for l in remove:\n",
    "        n_list.remove(l)\n",
    "    route.append(n_list)\n",
    "    print(i)\n",
    "    if (3,4) in step:\n",
    "        break\n",
    "print(step)\n",
    "print(route)    \n",
    "print(len(step.keys()))\n",
    "print(step.get((3,4),-1))"
   ]
  },
  {
   "cell_type": "code",
   "execution_count": 221,
   "metadata": {},
   "outputs": [
    {
     "name": "stdout",
     "output_type": "stream",
     "text": [
      "1 [{1, 3}, {1, 4}, {9, 5, 7}, {2, 5}, {5, 6}, {3, 5}, {8, 9}]\n",
      "1 [{1, 3}, {1, 4}, {5, 7, 8, 9}, {2, 5}, {5, 6}, {3, 5}]\n",
      "1 [{1, 3, 5}, {1, 4}, {5, 7, 8, 9}, {2, 5}, {5, 6}]\n",
      "1 [{1, 3, 5, 6}, {1, 4}, {5, 7, 8, 9}, {2, 5}]\n",
      "1 [{1, 2, 3, 5, 6}, {1, 4}, {5, 7, 8, 9}]\n",
      "1 [{1, 2, 3, 5, 6, 7, 8, 9}, {1, 4}]\n",
      "1 [{1, 2, 3, 4, 5, 6, 7, 8, 9}]\n",
      "2 [{1, 2, 3, 4, 5, 6, 7, 8, 9}]\n"
     ]
    }
   ],
   "source": [
    "#深さ探索\n",
    "#q=list()\n",
    "#for i in range(5):\n",
    "#    q.append(set(map(int, input().split())))\n",
    "q=[{1, 3}, {1, 4}, {9, 5}, {5, 2}, {6, 5},{3,5},{8,9},{7,9}]\n",
    "count=0\n",
    "while count!=10000:\n",
    "    a=q.pop()\n",
    "    for j in q:\n",
    "        if len(j&a) != 0:\n",
    "            j |=a\n",
    "            count=0\n",
    "            break\n",
    "    else:q=[a]+q\n",
    "    if count>len(q): break\n",
    "    count+=1\n",
    "    print(count,q)"
   ]
  },
  {
   "cell_type": "code",
   "execution_count": 9,
   "metadata": {},
   "outputs": [
    {
     "name": "stdout",
     "output_type": "stream",
     "text": [
      "[0, 1, 1, 1, -1, -1, -1] [1, 2, 3]\n",
      "[0, 1, 1, 1, -1, -1, 2] [1, 2, 6]\n",
      "[0, 1, 1, 1, 3, -1, 2] [1, 2, 4]\n",
      "[0, 1, 1, 1, 3, -1, 2] [1, 2]\n",
      "[0, 1, 1, 1, 3, 2, 2] [1, 5]\n",
      "[0, 1, 1, 1, 3, 2, 2] [1]\n",
      "[0, 1, 1, 1, 3, 2, 2] []\n",
      "[0, 1, 1, 1, 3, 2, 2]\n"
     ]
    }
   ],
   "source": [
    "#深さ探索2\n",
    "#n=int(input())\n",
    "#pt=[[] for i in range(n)]\n",
    "#for i in range(n-1):\n",
    "#    a,b=map(int,input().split())\n",
    "#    pt[a-1].append(b-1)\n",
    "#    pt[b-1].append(a-1)\n",
    "n=7\n",
    "pt=[[1, 2, 3], [0], [5, 0], [6, 0], [6], [2], [3, 4]]\n",
    "def dfs(v):\n",
    "    d=[-1 for i in range(n)]\n",
    "    q=[]\n",
    "    d[v]=0\n",
    "    q.append(v)\n",
    "    while q:\n",
    "        v=q.pop()\n",
    "        for i in pt[v]:\n",
    "            if d[i]==-1:\n",
    "                d[i]=d[v]+1\n",
    "                q.append(i)\n",
    "        print(d,q)\n",
    "    return d\n",
    "print(dfs(0))"
   ]
  },
  {
   "cell_type": "code",
   "execution_count": 6,
   "metadata": {},
   "outputs": [
    {
     "name": "stdout",
     "output_type": "stream",
     "text": [
      "[0, 1, 1, 1, -1, -1, -1] [1, 2, 3]\n",
      "[0, 1, 1, 1, -1, 2, 2] [5, 6]\n",
      "[0, 1, 1, 1, 3, 2, 2] [4]\n",
      "[0, 1, 1, 1, 3, 2, 2] []\n",
      "[0, 1, 1, 1, 3, 2, 2]\n"
     ]
    }
   ],
   "source": [
    "#幅優先探索\n",
    "n=7\n",
    "pt=[[1, 2, 3], [0], [5, 0], [6, 0], [6], [2], [3, 4]]\n",
    "def bfs(v):\n",
    "    d=[-1]*n\n",
    "    d[v]=0\n",
    "    q=[v]\n",
    "    c=1\n",
    "    while q:\n",
    "        q1=[]\n",
    "        for i in q:\n",
    "            for j in pt[i]:\n",
    "                if d[j]==-1:\n",
    "                    d[j]=c\n",
    "                    q1.append(j)\n",
    "        q=q1\n",
    "        c+=1\n",
    "        print(d,q)\n",
    "    return d\n",
    "print(bfs(0))"
   ]
  },
  {
   "cell_type": "code",
   "execution_count": 2,
   "metadata": {},
   "outputs": [
    {
     "name": "stdout",
     "output_type": "stream",
     "text": [
      "2 3\n",
      "...\n",
      "###\n",
      "['.....', '.....', '.###.', '.....']\n"
     ]
    }
   ],
   "source": [
    "#周辺埋め\n",
    "h,w=map(int, input().split())\n",
    "s = [\".\"*(w+2)]+[\".\"+input()+\".\" for i in range(h)]+[\".\"*(w+2)]\n",
    "print(s)"
   ]
  },
  {
   "cell_type": "code",
   "execution_count": 11,
   "metadata": {},
   "outputs": [
    {
     "name": "stdout",
     "output_type": "stream",
     "text": [
      "2 3\n",
      "...\n",
      "###\n",
      "['.....', '.....', '.###.', '.....']\n",
      "[[0, 0, 0, 0, 0], [0, 0, 0, 0, 0], [0, 1, 1, 1, 0], [0, 0, 0, 0, 0]]\n"
     ]
    }
   ],
   "source": [
    "h,w=map(int, input().split())\n",
    "s = [\".\"*(w+2)]+[\".\"+input()+\".\" for i in range(h)]+[\".\"*(w+2)]\n",
    "s2 = [[0 for i in range(w+2)] for i in range(h+2)]\n",
    "print(s)\n",
    "for i in range(h+2):\n",
    "    for j in range(w+2):\n",
    "        if s[i][j]=='#':\n",
    "            s2[i][j]=1\n",
    "print(s2)"
   ]
  },
  {
   "cell_type": "code",
   "execution_count": 194,
   "metadata": {},
   "outputs": [
    {
     "name": "stdout",
     "output_type": "stream",
     "text": [
      "[0, 0, 1, 1, 1, 0, 1, 0, 1, 0]\n"
     ]
    }
   ],
   "source": [
    "import random\n",
    "print([random.randint(0,1) for i in range(10)])"
   ]
  },
  {
   "cell_type": "code",
   "execution_count": 216,
   "metadata": {},
   "outputs": [
    {
     "name": "stdout",
     "output_type": "stream",
     "text": [
      "999729\n"
     ]
    }
   ],
   "source": [
    "import random\n",
    "count=0\n",
    "for i in range(1000000):\n",
    "    a=1\n",
    "    while a==1:\n",
    "        a=random.randint(0,1)\n",
    "        #print(a,end=(' '))\n",
    "        if a==1:\n",
    "            count+=1\n",
    "    \n",
    "print(count)"
   ]
  },
  {
   "cell_type": "code",
   "execution_count": 4,
   "metadata": {},
   "outputs": [
    {
     "name": "stdout",
     "output_type": "stream",
     "text": [
      "6\n",
      "5 6 1 2 3 4\n",
      "13\n"
     ]
    }
   ],
   "source": [
    "#しゃくとり方\n",
    "n=int(input())\n",
    "a=list(map(int, input().split()))\n",
    "count=0\n",
    "right=0\n",
    "for left in range(n):\n",
    "    if right==left: right+=1\n",
    "    while right<n and a[right-1]<a[right]:\n",
    "        right+=1\n",
    "    count+=right-left\n",
    "print(count)"
   ]
  },
  {
   "cell_type": "code",
   "execution_count": null,
   "metadata": {
    "collapsed": true
   },
   "outputs": [],
   "source": [
    "#しゃくとり、同じものを保存\n",
    "n=int(input())\n",
    "a=list(map(int, input().split()))\n",
    "\n",
    "count=0\n",
    "right=0\n",
    "m=dict()\n",
    "for left in range(n):\n",
    "    while right<n and m.get(a[right],0)==0:\n",
    "        m[a[right]]=m.get(a[right],0)+1\n",
    "        right+=1\n",
    "    count=max(count,right-left)\n",
    "    m[a[left]]=m.get(a[left],1)-1\n",
    "print(count)"
   ]
  },
  {
   "cell_type": "code",
   "execution_count": 58,
   "metadata": {},
   "outputs": [
    {
     "name": "stdout",
     "output_type": "stream",
     "text": [
      "[  0   1   3   6  10  15  21  28  36  45  55  66  78  91 105 120 136 153\n",
      " 171 190 210 231 253 276 300 325 351 378 406 435]\n",
      "[0, 1, 3, 6, 10, 15, 21, 28, 36, 45, 55, 66, 78, 91, 105, 120, 136, 153, 171, 190, 210, 231, 253, 276, 300, 325, 351, 378, 406, 435]\n"
     ]
    }
   ],
   "source": [
    "# 累積和\n",
    "b=list(range(1,30))\n",
    "import numpy\n",
    "b2=numpy.cumsum([0]+b)\n",
    "a2=[0]\n",
    "for i in b:a2.append(a2[-1]+i)\n",
    "print(b2)\n",
    "print(a2)"
   ]
  },
  {
   "cell_type": "code",
   "execution_count": 9,
   "metadata": {},
   "outputs": [
    {
     "name": "stdout",
     "output_type": "stream",
     "text": [
      "[[0, 0, 0, 0, 0, 0, 0, 0, 0], [0, 0, 3, 3, 3, 3, 3, 3, 3]]\n",
      "[[0, 0, 0, 0, 0, 0, 0, 0, 0], [0, 0, 3, 3, 3, 3, 3, 3, 3], [0, 2, 3, 5, 5, 5, 5, 5, 5]]\n",
      "[[0, 0, 0, 0, 0, 0, 0, 0, 0], [0, 0, 3, 3, 3, 3, 3, 3, 3], [0, 2, 3, 5, 5, 5, 5, 5, 5], [0, 2, 3, 6, 8, 9, 11, 11, 11]]\n",
      "[[0, 0, 0, 0, 0, 0, 0, 0, 0], [0, 0, 3, 3, 3, 3, 3, 3, 3], [0, 2, 3, 5, 5, 5, 5, 5, 5], [0, 2, 3, 6, 8, 9, 11, 11, 11], [0, 2, 3, 6, 8, 9, 11, 11, 12]]\n",
      "[[0, 0, 0, 0, 0, 0, 0, 0, 0], [0, 0, 3, 3, 3, 3, 3, 3, 3], [0, 2, 3, 5, 5, 5, 5, 5, 5], [0, 2, 3, 6, 8, 9, 11, 11, 11], [0, 2, 3, 6, 8, 9, 11, 11, 12], [0, 3, 5, 6, 9, 11, 12, 14, 14]]\n",
      "[[0, 0, 0, 0, 0, 0, 0, 0, 0], [0, 0, 3, 3, 3, 3, 3, 3, 3], [0, 2, 3, 5, 5, 5, 5, 5, 5], [0, 2, 3, 6, 8, 9, 11, 11, 11], [0, 2, 3, 6, 8, 9, 11, 11, 12], [0, 3, 5, 6, 9, 11, 12, 14, 14], [0, 3, 5, 6, 9, 85, 88, 90, 91]]\n",
      "91\n"
     ]
    }
   ],
   "source": [
    "#DP1\n",
    "n=6\n",
    "w=8\n",
    "weight=[2,1,3,2,1,5]\n",
    "value=[3,2,6,1,3,85]\n",
    "\n",
    "dp=[[0 for i in range(w+1)] for j in range(n+1)]\n",
    "for i in range(n):\n",
    "    for j in range(w+1):\n",
    "        if j>=weight[i] : dp[i+1][j]=max(dp[i][j-weight[i]]+value[i],dp[i][j])\n",
    "        else: dp[i+1][j]=dp[i][j]\n",
    "    print(dp[:i+2])\n",
    "print(dp[n][w])"
   ]
  },
  {
   "cell_type": "code",
   "execution_count": 11,
   "metadata": {},
   "outputs": [
    {
     "name": "stdout",
     "output_type": "stream",
     "text": [
      "[[0, 30, 30, 30, 30, 30, 30, 30, 30, 30, 30, 30, 30], [0, 30, 30, 30, 30, 30, 30, 1, 30, 30, 30, 30, 30]]\n",
      "[[0, 30, 30, 30, 30, 30, 30, 30, 30, 30, 30, 30, 30], [0, 30, 30, 30, 30, 30, 30, 1, 30, 30, 30, 30, 30], [0, 30, 30, 30, 30, 1, 30, 1, 30, 30, 30, 30, 2]]\n",
      "[[0, 30, 30, 30, 30, 30, 30, 30, 30, 30, 30, 30, 30], [0, 30, 30, 30, 30, 30, 30, 1, 30, 30, 30, 30, 30], [0, 30, 30, 30, 30, 1, 30, 1, 30, 30, 30, 30, 2], [0, 30, 30, 1, 30, 1, 30, 1, 2, 30, 2, 30, 2]]\n",
      "[[0, 30, 30, 30, 30, 30, 30, 30, 30, 30, 30, 30, 30], [0, 30, 30, 30, 30, 30, 30, 1, 30, 30, 30, 30, 30], [0, 30, 30, 30, 30, 1, 30, 1, 30, 30, 30, 30, 2], [0, 30, 30, 1, 30, 1, 30, 1, 2, 30, 2, 30, 2], [0, 1, 30, 1, 2, 1, 2, 1, 2, 3, 2, 3, 2]]\n",
      "[[0, 30, 30, 30, 30, 30, 30, 30, 30, 30, 30, 30, 30], [0, 30, 30, 30, 30, 30, 30, 1, 30, 30, 30, 30, 30], [0, 30, 30, 30, 30, 1, 30, 1, 30, 30, 30, 30, 2], [0, 30, 30, 1, 30, 1, 30, 1, 2, 30, 2, 30, 2], [0, 1, 30, 1, 2, 1, 2, 1, 2, 3, 2, 3, 2], [0, 1, 30, 1, 2, 1, 2, 1, 1, 2, 2, 2, 2]]\n",
      "2\n"
     ]
    }
   ],
   "source": [
    "#DP2\n",
    "n=5\n",
    "a=[7,5,3,1,8]\n",
    "A=12\n",
    "dp=[[30 for i in range(A+1)] for j in range(n+1)]\n",
    "dp[0][0]=0\n",
    "\n",
    "for i in range(n):\n",
    "    for j in range(A+1):\n",
    "        if j>=a[i] : dp[i+1][j]=min(dp[i][j-a[i]]+1,dp[i][j])\n",
    "        else: dp[i+1][j]=dp[i][j]\n",
    "    print(dp[:i+2])\n",
    "print(dp[n][A])"
   ]
  },
  {
   "cell_type": "code",
   "execution_count": 52,
   "metadata": {},
   "outputs": [
    {
     "name": "stdout",
     "output_type": "stream",
     "text": [
      "5-5+3+4=7\n"
     ]
    }
   ],
   "source": [
    "#ビット演算、式を計算\n",
    "from itertools import permutations, combinations,combinations_with_replacement,product\n",
    "a=list(product(['+','-'],repeat=3))\n",
    "s=['5', '5', '3', '4']\n",
    "for i in a:\n",
    "    ans=s[0]+i[0]+s[1]+i[1]+s[2]+i[2]+s[3]\n",
    "    if eval(ans)==7:\n",
    "        print(ans+'=7')\n",
    "        break"
   ]
  },
  {
   "cell_type": "code",
   "execution_count": 6,
   "metadata": {},
   "outputs": [
    {
     "name": "stdout",
     "output_type": "stream",
     "text": [
      "5\n",
      "[[7, 10, 0, 0, 0], [3, 5, 7, 6, 10], [5, 8, 9, 9, 9], [1, 10, 6, 5, 2], [10, 6, 5, 5, 6]]\n",
      "[1, 6, 0, 0, 0]\n",
      "[3, 5, 3, 3, 3]\n",
      "[5, 8, 5, 5, 5]\n",
      "[1, 7, 1, 1, 1]\n",
      "[6, 6, 5, 5, 6]\n"
     ]
    },
    {
     "data": {
      "text/plain": [
       "array([[ 0.,  6.,  9.,  9.,  9.],\n",
       "       [ 3.,  0.,  3.,  3.,  3.],\n",
       "       [ 5.,  8.,  0.,  5.,  5.],\n",
       "       [ 1.,  7.,  1.,  0.,  1.],\n",
       "       [ 6.,  6.,  5.,  5.,  0.]])"
      ]
     },
     "execution_count": 6,
     "metadata": {},
     "output_type": "execute_result"
    }
   ],
   "source": [
    "#ワーシャルフロイト法\n",
    "import random\n",
    "n=int(input())\n",
    "#c=[list(map(int, input().split())) for i in range(n)]\n",
    "c=[[random.randint(1, 10) for i in range(n)] for i in range(n)]\n",
    "c[0][4]=0\n",
    "c[0][3]=0\n",
    "c[0][2]=0\n",
    "print(c)\n",
    "for k in range(n):\n",
    "    for i in range(n):\n",
    "        for j in range(n):\n",
    "            c[i][j]=min(c[i][j],c[i][k]+c[k][j])\n",
    "for i in c:\n",
    "    print(i)\n",
    "\n",
    "from scipy.sparse.csgraph import floyd_warshall \n",
    "cost=floyd_warshall(c)\n",
    "cost"
   ]
  },
  {
   "cell_type": "code",
   "execution_count": 9,
   "metadata": {},
   "outputs": [
    {
     "name": "stdout",
     "output_type": "stream",
     "text": [
      "2 2\n",
      "1 2 1\n",
      "2 1 1\n",
      "inf\n"
     ]
    }
   ],
   "source": [
    "#ベルマンフォード法\n",
    "def BF(p,n,s):\n",
    "    inf=float(\"inf\")\n",
    "    d=[inf for i in range(n)]\n",
    "    d[s-1]=0\n",
    "    for i in range(n+1):\n",
    "        for e in p:\n",
    "            if e[0]!=inf and d[e[1]-1]>d[e[0]-1]+e[2]:\n",
    "                d[e[1]-1] = d[e[0]-1] + e[2]\n",
    "        if i==n-1:t=d[-1]\n",
    "        if i==n and t!=d[-1]:\n",
    "            return [0,'inf']\n",
    "    return list(map(lambda x:-x, d))\n",
    "\n",
    "n,m=map(int, input().split())\n",
    "a=[list(map(int, input().split())) for i in range(m)]\n",
    "a=[[x,y,-z] for x,y,z in a]\n",
    "print(BF(a, n, 1)[-1])"
   ]
  },
  {
   "cell_type": "code",
   "execution_count": 7,
   "metadata": {},
   "outputs": [
    {
     "name": "stdout",
     "output_type": "stream",
     "text": [
      "{2: [(4, 2), (0, 8)], 3: [(4, 5), (2, 1)], 1: [(3, 2), (2, 4)], 0: [(2, 8), (1, 3)]}\n",
      "[(0, 0)] [0, inf, inf, inf, inf] [None, None, None, None, None]\n",
      "[(3, 1), (8, 2)] [0, 3, 8, inf, inf] [None, 0, 0, None, None]\n",
      "[(5, 3), (8, 2), (7, 2)] [0, 3, 7, 5, inf] [None, 0, 1, 1, None]\n",
      "[(6, 2), (7, 2), (10, 4), (8, 2)] [0, 3, 6, 5, 10] [None, 0, 3, 1, 3]\n",
      "[(7, 2), (8, 2), (10, 4), (8, 4)] [0, 3, 6, 5, 8] [None, 0, 3, 1, 2]\n",
      "[(8, 2), (8, 4), (10, 4)] [0, 3, 6, 5, 8] [None, 0, 3, 1, 2]\n",
      "[(8, 4), (10, 4)] [0, 3, 6, 5, 8] [None, 0, 3, 1, 2]\n",
      "[(10, 4)] [0, 3, 6, 5, 8] [None, 0, 3, 1, 2]\n",
      "p {2: [(4, 2), (0, 8)], 3: [(4, 5), (2, 1)], 1: [(3, 2), (2, 4)], 0: [(2, 8), (1, 3)]}\n",
      "最短経路 0 1 3 2 4\n",
      "最短距離 [0, 3, 6, 5, 8]\n"
     ]
    }
   ],
   "source": [
    "#　ダイクストラ法\n",
    "mp2=[[2, 4, 2], [3, 4, 5], [3, 2, 1], [1, 3, 2], [2, 0, 8], [0, 2, 8], [1, 2, 4], [0, 1, 3]]\n",
    "\n",
    "from heapq import heappop, heappush\n",
    "inf=float('inf')\n",
    "d=[inf for i in range(5)]\n",
    "d[0]=0\n",
    "prev=[None]*5\n",
    "p=dict()\n",
    "for i,j,k in mp2: p[i]=p.get(i,[])+[(j,k)]\n",
    "print(p)\n",
    "\n",
    "q=[]\n",
    "heappush(q,(d[0],0))\n",
    "while q:\n",
    "    print(q,d,prev)\n",
    "    du, u = heappop(q)\n",
    "    if d[u]<du: continue\n",
    "    for v,weight in p.get(u,[]):\n",
    "        alt=du+weight\n",
    "        if d[v]>alt:\n",
    "            d[v]=alt\n",
    "            prev[v]=u\n",
    "            heappush(q, (alt,v))\n",
    "print('p',p)\n",
    "p=[4]\n",
    "while prev[p[-1]]!=None: p.append(prev[p[-1]])\n",
    "print('最短経路',*p[::-1])\n",
    "print('最短距離',d)"
   ]
  },
  {
   "cell_type": "code",
   "execution_count": null,
   "metadata": {
    "collapsed": true
   },
   "outputs": [],
   "source": [
    "#ダイクストラscipy\n",
    "from scipy.sparse import csr_matrix\n",
    "from scipy.sparse.csgraph import dijkstra\n",
    "import numpy as np\n",
    "mp2=[[2, 4, 2], [3, 4, 5], [3, 2, 1], [1, 3, 2], [2, 0, 8], [0, 2, 8], [1, 2, 4], [0, 1, 3]]\n",
    "in_,out,weight=zip(*mp2)\n",
    "graph = csr_matrix((weight, (in_, out)), shape=(5, 5), dtype=np.int64)\n",
    "dists = dijkstra(graph, indices=0)\n",
    "print(dists)"
   ]
  },
  {
   "cell_type": "code",
   "execution_count": null,
   "metadata": {
    "collapsed": true
   },
   "outputs": [],
   "source": []
  },
  {
   "cell_type": "code",
   "execution_count": 6,
   "metadata": {},
   "outputs": [
    {
     "data": {
      "text/plain": [
       "[4, 2, 3, 1, 0]"
      ]
     },
     "execution_count": 6,
     "metadata": {},
     "output_type": "execute_result"
    }
   ],
   "source": [
    "p"
   ]
  },
  {
   "cell_type": "code",
   "execution_count": 4,
   "metadata": {},
   "outputs": [
    {
     "name": "stdout",
     "output_type": "stream",
     "text": [
      "541258\n"
     ]
    }
   ],
   "source": [
    "#複数の文字列を変換\n",
    "S='54IZSB'\n",
    "S = S.translate(str.maketrans(\"ODIZSB\",\"001258\"))\n",
    "print(S)"
   ]
  },
  {
   "cell_type": "code",
   "execution_count": 21,
   "metadata": {},
   "outputs": [
    {
     "name": "stdout",
     "output_type": "stream",
     "text": [
      "{2: 6, 3: 1, 13: 1, 136841: 1}\n"
     ]
    }
   ],
   "source": [
    "#素因数分解\n",
    "pf={}\n",
    "m=341555136\n",
    "for i in range(2,int(m**0.5)+1):\n",
    "    while m%i==0:\n",
    "        pf[i]=pf.get(i,0)+1\n",
    "        m//=i\n",
    "if m>1:pf[m]=1\n",
    "print(pf)"
   ]
  },
  {
   "cell_type": "code",
   "execution_count": 26,
   "metadata": {},
   "outputs": [
    {
     "name": "stdout",
     "output_type": "stream",
     "text": [
      "434941573\n",
      "149033233\n"
     ]
    }
   ],
   "source": [
    "#組み合わせのmod対応\n",
    "def framod(n, mod, a=1):\n",
    "    for i in range(1,n+1):\n",
    "        a=a * i % mod\n",
    "    return a\n",
    "\n",
    "def power(n, r, mod):\n",
    "    if r == 0: return 1\n",
    "    if r%2 == 0:\n",
    "        return power(n*n % mod, r//2, mod) % mod\n",
    "    if r%2 == 1:\n",
    "        return n * power(n, r-1, mod) % mod\n",
    "    \n",
    "def comb(n, k, mod):\n",
    "    a=framod(n, mod)\n",
    "    b=framod(k, mod)\n",
    "    c=framod(n-k, mod)\n",
    "    return (a * power(b, mod-2, mod) * power(c, mod-2, mod)) % mod\n",
    "\n",
    "print(comb(10**5,5000,10**9+7))\n",
    "print(comb(100000, 50000,10**9+7))\n"
   ]
  },
  {
   "cell_type": "code",
   "execution_count": 5,
   "metadata": {},
   "outputs": [
    {
     "name": "stdout",
     "output_type": "stream",
     "text": [
      "1 1\n",
      "3 2\n",
      "6 3\n",
      "9 3\n",
      "13 4\n",
      "17 4\n",
      "22 5\n"
     ]
    }
   ],
   "source": [
    "#ヒープ　最小値の取り出し\n",
    "from heapq import heappop,heappush\n",
    "an=[[1,3],[2,1],[3,4]]\n",
    "plus,h=[],[]\n",
    "\n",
    "for i,(a,b) in enumerate(an):\n",
    "    plus.append(b)\n",
    "    heappush(h,(a,i))\n",
    "\n",
    "ans,k=0,7\n",
    "for i in range(k):\n",
    "    x,i=heappop(h)\n",
    "    ans+=x\n",
    "    heappush(h,(x+plus[i],i))\n",
    "    print(ans,x)"
   ]
  },
  {
   "cell_type": "code",
   "execution_count": 2,
   "metadata": {},
   "outputs": [
    {
     "name": "stdout",
     "output_type": "stream",
     "text": [
      "abcdefghijklmnopqrstuvwxyz\n"
     ]
    }
   ],
   "source": [
    "#アルファベット\n",
    "al=[chr(ord('a') + i) for i in range(26)]\n",
    "print(''.join(al))"
   ]
  },
  {
   "cell_type": "code",
   "execution_count": null,
   "metadata": {
    "collapsed": true
   },
   "outputs": [],
   "source": [
    "#2で何回割れるか\n",
    "n=8896\n",
    "print(bin(n),len(bin(n)),bin(n).rfind(\"1\"))\n",
    "print(len(bin(n)) - bin(n).rfind(\"1\") - 1)\n",
    "while not n%2:\n",
    "    n/=2\n",
    "    print(n)"
   ]
  },
  {
   "cell_type": "code",
   "execution_count": 2,
   "metadata": {},
   "outputs": [
    {
     "name": "stdout",
     "output_type": "stream",
     "text": [
      "5 2\n",
      "1 3 5 2 4\n",
      "1 3\n",
      "2 4\n",
      "2\n",
      "[0, 1, 0, 1, 4]\n"
     ]
    }
   ],
   "source": [
    "#union find\n",
    "class UnionFind(object):\n",
    "    def __init__(self, n=1):\n",
    "        self.par = [i for i in range(n)]\n",
    "        self.rank = [0 for _ in range(n)]\n",
    "\n",
    "    def find(self, x):\n",
    "        if self.par[x] == x:\n",
    "            return x\n",
    "        else:\n",
    "            self.par[x] = self.find(self.par[x])\n",
    "            return self.par[x]\n",
    "\n",
    "    def union(self, x, y):\n",
    "        x = self.find(x)\n",
    "        y = self.find(y)\n",
    "        if x != y:\n",
    "            if self.rank[x] < self.rank[y]:\n",
    "                x, y = y, x\n",
    "            if self.rank[x] == self.rank[y]:\n",
    "                self.rank[x] += 1\n",
    "            self.par[y] = x\n",
    "\n",
    "    def is_same(self, x, y):\n",
    "        return self.find(x) == self.find(y)\n",
    "    \n",
    "n,m=map(int, input().split())\n",
    "p=list(map(int, input().split()))\n",
    "uf1=UnionFind(n)\n",
    "for i in range(m):\n",
    "    a,b=map(int, input().split())\n",
    "    uf1.union(a-1,b-1)\n",
    "count=0\n",
    "for i in range(n):\n",
    "    if uf1.is_same(i,p[i]-1):count+=1\n",
    "print(count)\n",
    "print(uf1.par)"
   ]
  },
  {
   "cell_type": "code",
   "execution_count": 17,
   "metadata": {},
   "outputs": [
    {
     "data": {
      "text/plain": [
       "801473732"
      ]
     },
     "execution_count": 17,
     "metadata": {},
     "output_type": "execute_result"
    }
   ],
   "source": [
    "#組み合わせの数\n",
    "from scipy.special import comb\n",
    "comb(10**5, 100, exact=True)%(10**9+7)"
   ]
  },
  {
   "cell_type": "code",
   "execution_count": 11,
   "metadata": {},
   "outputs": [
    {
     "name": "stdout",
     "output_type": "stream",
     "text": [
      "6332049\n"
     ]
    }
   ],
   "source": [
    "#マラソンマッチ\n",
    "from time import time\n",
    "st=time()\n",
    "now=0\n",
    "while time() - st<2:\n",
    "    now=(now+1)%10**10\n",
    "print(now)"
   ]
  },
  {
   "cell_type": "code",
   "execution_count": 4,
   "metadata": {},
   "outputs": [
    {
     "name": "stdout",
     "output_type": "stream",
     "text": [
      "11101\n"
     ]
    }
   ],
   "source": [
    "#n進数\n",
    "n=64\n",
    "k=-3\n",
    "bi=''\n",
    "while n!=0:\n",
    "    bi+=str(n%abs(k))\n",
    "    if k<0:n=-(-n//k)\n",
    "    else:n=n//k\n",
    "print(bi[::-1])"
   ]
  },
  {
   "cell_type": "code",
   "execution_count": 23,
   "metadata": {},
   "outputs": [
    {
     "name": "stdout",
     "output_type": "stream",
     "text": [
      "[95 72 53 48 47 70] 47 4\n",
      "47 4\n"
     ]
    }
   ],
   "source": [
    "#マンハッタン距離重心&cost\n",
    "a=[5,2,7,2,12,5]\n",
    "import numpy as np\n",
    "b=np.int64([0]+a).cumsum().cumsum()[:-1]\n",
    "c=np.int64([0]+a[::-1]).cumsum().cumsum()[:-1]\n",
    "print(b+c[::-1], (b+c[::-1]).min(), (b+c[::-1]).argmin())\n",
    "\n",
    "b=sum(a)\n",
    "c=0\n",
    "for j,i in enumerate(a):\n",
    "    c+=i\n",
    "    if c>b//2:break\n",
    "print(sum([a[i]*abs(i-j) for i in range(len(a))]),j)"
   ]
  },
  {
   "cell_type": "code",
   "execution_count": null,
   "metadata": {
    "collapsed": true
   },
   "outputs": [],
   "source": [
    "#入力\n",
    "N, x, *A = map(int, open(0).read().split())"
   ]
  },
  {
   "cell_type": "code",
   "execution_count": null,
   "metadata": {
    "collapsed": true
   },
   "outputs": [],
   "source": [
    "#メモ化再帰\n",
    "from functools import lru_cache\n",
    "import sys\n",
    "sys.setrecursionlimit(10000)\n",
    "@lru_cache(maxsize=10000)\n",
    "def fibm(n):\n",
    "    if n<2:return n\n",
    "    else:return (fibm(n-1) + fibm(n-2))%(10**9+7)\n",
    "print(fibm(1200)%(10**9+7))"
   ]
  },
  {
   "cell_type": "code",
   "execution_count": 50,
   "metadata": {},
   "outputs": [
    {
     "name": "stdout",
     "output_type": "stream",
     "text": [
      "{(1, 2), (2, 3), (2, 1)}\n",
      "{(2, 0), (1, 1), (3, 3), (2, 4), (0, 2)}\n",
      "{(0, 1), (0, 3), (4, 3)}\n",
      "{(4, 2)}\n",
      "-1  3  2  3 -1 \n",
      "-1  2  1 -1 -1 \n",
      " 2  1  0  1  2 \n",
      "-1 -1 -1  2 -1 \n",
      "-1 -1  4  3 -1 \n"
     ]
    }
   ],
   "source": [
    "#上下左右 幅優先探索\n",
    "h,w=5,5\n",
    "s=[['#', '.', '.', '.', '#'],\n",
    " ['#', '.', '.', '#', '#'],\n",
    " ['.', '.', '.', '.', '.'],\n",
    " ['#', '#', '#', '.', '#'],\n",
    " ['.', '.', '.', '.', '#']]\n",
    "sta=(2,2)\n",
    "p=[[-1]*w for i in range(h)]\n",
    "np=[(1,0),(-1,0),(0,1),(0,-1)]\n",
    "q={sta}\n",
    "p[sta[0]][sta[1]]=0\n",
    "step=0\n",
    "while step<k and q:\n",
    "    step+=1\n",
    "    nq=set()\n",
    "    while q:\n",
    "        now=q.pop()\n",
    "        for i,j in np:\n",
    "            nx,ny=now[0]+i,now[1]+j\n",
    "            if nx<0 or nx==h or ny<0 or ny==w:continue\n",
    "            if s[nx][ny]=='.' and p[nx][ny]==-1:\n",
    "                p[nx][ny]=step\n",
    "                nq.add((nx,ny))\n",
    "    q=nq.copy()\n",
    "    print(q)\n",
    "for i in range(h):\n",
    "    for j in range(w):\n",
    "        print('{:2d}'.format(p[i][j]),end=' ')\n",
    "    print()"
   ]
  },
  {
   "cell_type": "code",
   "execution_count": null,
   "metadata": {
    "collapsed": true
   },
   "outputs": [],
   "source": []
  }
 ],
 "metadata": {
  "kernelspec": {
   "display_name": "Python 3",
   "language": "python",
   "name": "python3"
  },
  "language_info": {
   "codemirror_mode": {
    "name": "ipython",
    "version": 3
   },
   "file_extension": ".py",
   "mimetype": "text/x-python",
   "name": "python",
   "nbconvert_exporter": "python",
   "pygments_lexer": "ipython3",
   "version": "3.6.2"
  }
 },
 "nbformat": 4,
 "nbformat_minor": 2
}
